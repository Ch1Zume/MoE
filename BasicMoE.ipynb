{
 "cells": [
  {
   "cell_type": "code",
   "execution_count": 1,
   "metadata": {},
   "outputs": [],
   "source": [
    "import torch\n",
    "import torch.nn as nn\n",
    "import torch.nn.functional as F\n",
    "from Routers import SoftRouter\n",
    "from Experts import BasicExpert"
   ]
  },
  {
   "cell_type": "code",
   "execution_count": 2,
   "metadata": {},
   "outputs": [],
   "source": [
    "class BasicMOE(nn.Module):\n",
    "    def __init__(self, in_features, out_features, hidden_dim, num_experts):\n",
    "        super(BasicMOE, self).__init__()\n",
    "        self.in_features = in_features\n",
    "        self.out_features = out_features\n",
    "        self.num_experts = num_experts\n",
    "        self.experts = nn.ModuleList([BasicExpert(in_features, out_features) for _ in range(num_experts)])\n",
    "        self.gate = nn.Linear(in_features, num_experts)\n",
    "        self.router = SoftRouter(hidden_dim, num_experts, self.gate)\n",
    "\n",
    "    def forward(self, x):\n",
    "        batch_size = x.size(0)\n",
    "        output = torch.zeros(batch_size, self.out_features)\n",
    "        # batch-wise calculation\n",
    "        for i in range(batch_size):\n",
    "            expert_weights = self.router(x[i])\n",
    "            for j in range(self.num_experts):\n",
    "                output = output + expert_weights[j] * self.experts[j](x[i])\n",
    "        return output"
   ]
  },
  {
   "cell_type": "code",
   "execution_count": 4,
   "metadata": {},
   "outputs": [
    {
     "name": "stdout",
     "output_type": "stream",
     "text": [
      "torch.Size([32, 5])\n"
     ]
    }
   ],
   "source": [
    "in_features = 10\n",
    "out_features = 5\n",
    "num_experts = 3\n",
    "batch_size = 32\n",
    "hidden_dim = 16\n",
    "model = BasicMOE(in_features, out_features, hidden_dim, num_experts)\n",
    "x = torch.randn(batch_size, in_features)\n",
    "y = model(x)\n",
    "print(y.shape)"
   ]
  }
 ],
 "metadata": {
  "kernelspec": {
   "display_name": "myenv",
   "language": "python",
   "name": "python3"
  },
  "language_info": {
   "codemirror_mode": {
    "name": "ipython",
    "version": 3
   },
   "file_extension": ".py",
   "mimetype": "text/x-python",
   "name": "python",
   "nbconvert_exporter": "python",
   "pygments_lexer": "ipython3",
   "version": "3.13.1"
  }
 },
 "nbformat": 4,
 "nbformat_minor": 2
}
